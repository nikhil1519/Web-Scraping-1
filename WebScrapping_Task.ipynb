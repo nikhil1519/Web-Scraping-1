{
 "cells": [
  {
   "cell_type": "markdown",
   "id": "5f33cdeb",
   "metadata": {},
   "source": [
    "# Importing required Packages"
   ]
  },
  {
   "cell_type": "code",
   "execution_count": 1,
   "id": "6268b09e",
   "metadata": {},
   "outputs": [],
   "source": [
    "import requests\n",
    "from bs4 import BeautifulSoup\n",
    "import csv\n",
    "from textblob import TextBlob"
   ]
  },
  {
   "cell_type": "code",
   "execution_count": 45,
   "id": "da519686",
   "metadata": {},
   "outputs": [],
   "source": [
    "import mysql.connector"
   ]
  },
  {
   "cell_type": "markdown",
   "id": "2d638a18",
   "metadata": {},
   "source": [
    "# Mysql Database Connection"
   ]
  },
  {
   "cell_type": "code",
   "execution_count": 46,
   "id": "4c9a9817",
   "metadata": {},
   "outputs": [
    {
     "name": "stdout",
     "output_type": "stream",
     "text": [
      "<mysql.connector.connection_cext.CMySQLConnection object at 0x000002289DB2B8D0>\n"
     ]
    }
   ],
   "source": [
    "mydb = mysql.connector.connect(host='localhost', user='root', password='1519')\n",
    "print(mydb)"
   ]
  },
  {
   "cell_type": "markdown",
   "id": "ce5ed2da",
   "metadata": {},
   "source": [
    "# Create Database and Table"
   ]
  },
  {
   "cell_type": "code",
   "execution_count": 47,
   "id": "14379909",
   "metadata": {},
   "outputs": [],
   "source": [
    "mc = mydb.cursor()\n",
    "#mc.execute(\"create database if not exists task\")\n",
    "mc.execute(\"use task\")"
   ]
  },
  {
   "cell_type": "code",
   "execution_count": 5,
   "id": "9dd82f1e",
   "metadata": {},
   "outputs": [],
   "source": [
    "#mc.execute(\"create table if not exists reviews(rtitle tinytext, rtext longtext, storageSize int, colour varchar(15), verified varchar(3), sentiment varchar(10))\")"
   ]
  },
  {
   "cell_type": "markdown",
   "id": "df169958",
   "metadata": {},
   "source": [
    "# Getting HTML content of link  and parsing using html5lib parser"
   ]
  },
  {
   "cell_type": "code",
   "execution_count": 12,
   "id": "d6b99333",
   "metadata": {},
   "outputs": [],
   "source": [
    "url = \"https://www.amazon.in/Apple-New-iPhone-12-128GB/dp/B08L5TNJHG/\"\n",
    "header={'User-Agent': 'Mozilla/5.0 (Windows NT 10.0; Win64; x64) AppleWebKit/537.36 (KHTML, like Gecko) Chrome/77.0.3865.90 Safari/537.36','referer':'https://www.amazon.com/s?k=nike+shoes+men&crid=28WRS5SFLWWZ6&sprefix=nike%2Caps%2C357&ref=nb_sb_ss_organic-diversity_2_4'}\n",
    "r = requests.get(url, headers=header)\n",
    "soup = BeautifulSoup(r.content, 'html5lib')"
   ]
  },
  {
   "cell_type": "code",
   "execution_count": null,
   "id": "7240d52f",
   "metadata": {},
   "outputs": [],
   "source": [
    "#soup.prettify()"
   ]
  },
  {
   "cell_type": "markdown",
   "id": "4c137314",
   "metadata": {},
   "source": [
    "# Getting link of review page"
   ]
  },
  {
   "cell_type": "code",
   "execution_count": 13,
   "id": "c9adf9a7",
   "metadata": {},
   "outputs": [],
   "source": [
    "soup=BeautifulSoup(r.content)\n",
    "link=[]\n",
    "for i in soup.findAll(\"a\",{'data-hook':\"see-all-reviews-link-foot\"}):\n",
    "        link.append(i['href'])"
   ]
  },
  {
   "cell_type": "code",
   "execution_count": 14,
   "id": "58c5994f",
   "metadata": {},
   "outputs": [
    {
     "data": {
      "text/plain": [
       "['/New-Apple-iPhone-12-64GB/product-reviews/B08L5TGWD1/ref=cm_cr_dp_d_show_all_btm?ie=UTF8&reviewerType=all_reviews']"
      ]
     },
     "execution_count": 14,
     "metadata": {},
     "output_type": "execute_result"
    }
   ],
   "source": [
    "link"
   ]
  },
  {
   "cell_type": "markdown",
   "id": "38cfa00b",
   "metadata": {},
   "source": [
    "# Getting Text content out of HTML tags"
   ]
  },
  {
   "cell_type": "code",
   "execution_count": 26,
   "id": "9771de6c",
   "metadata": {},
   "outputs": [],
   "source": [
    "review_text=[]\n",
    "review_title=[]\n",
    "verified = []\n",
    "rating = []\n",
    "        \n",
    "for j in range(len(link)):\n",
    "    for k in range(100):\n",
    "        response=requests.get('https://www.amazon.in'+link[j]+'&pageNumber='+str(k), headers=header)\n",
    "        soup=BeautifulSoup(response.content)\n",
    "        for i in soup.findAll(name='a',class_=\"a-size-base a-link-normal review-title a-color-base review-title-content a-text-bold\"):\n",
    "            review_title.append(i.find(\"span\").text)\n",
    "        for i in soup.findAll(\"span\",{'class':\"a-size-base review-text review-text-content\", 'data-hook':\"review-body\"}):\n",
    "            review_text.append(i.text.replace(\"\\n\", \"\").strip())\n",
    "        for i in soup.findAll(\"span\",{'class':\"a-size-mini a-color-state a-text-bold\", 'data-hook':\"avp-badge\"}):\n",
    "            if(i.text == \"Verified Purchase\"):\n",
    "                verified.append('YES')\n",
    "            else:\n",
    "                review_text.append('NO')\n",
    "        for i in soup.findAll('i',{'class':\"a-icon a-icon-star a-star-4 review-rating\", 'data-hook':\"review-star-rating\"}):\n",
    "            rating.append(i.find(\"span\").text[:3])"
   ]
  },
  {
   "cell_type": "code",
   "execution_count": 21,
   "id": "3a9630c4",
   "metadata": {},
   "outputs": [
    {
     "name": "stdout",
     "output_type": "stream",
     "text": [
      "Colour: (PRODUCT)REDSize: 64GBPattern Name: iPhone 12\n"
     ]
    }
   ],
   "source": [
    "print(soup.find(name='div',class_=\"a-row a-spacing-top-medium product-variation-strip\").find(\"span\").text)"
   ]
  },
  {
   "cell_type": "code",
   "execution_count": 22,
   "id": "17165f57",
   "metadata": {},
   "outputs": [],
   "source": [
    "colour, size = \"RED\", \"64\""
   ]
  },
  {
   "cell_type": "code",
   "execution_count": 27,
   "id": "e5d2acf6",
   "metadata": {},
   "outputs": [
    {
     "data": {
      "text/plain": [
       "(1000, 1000, 1000)"
      ]
     },
     "execution_count": 27,
     "metadata": {},
     "output_type": "execute_result"
    }
   ],
   "source": [
    "len(review_text),len(review_title), len(verified)"
   ]
  },
  {
   "cell_type": "code",
   "execution_count": 30,
   "id": "d52933f8",
   "metadata": {
    "scrolled": false
   },
   "outputs": [
    {
     "data": {
      "text/plain": [
       "['SUMMERY: As a first time iPhone user, I would say one should definitely buy iPhone ONLY for premium built & premium hardware (will talk later) while the whole iOS experience is pretty overrated. iPhones isn\\'t any exceptionally fast with normal apps like YouTube, Insta etc, Android phones are equally snappy with them in 2022.PROS:1. Impressive hardware, the heptics, the autobrightness & otherwise highly ignored things in Android are way too perfectly executed in iPhone and it DOES make a big difference in user experience!!2. The screen is AMAZING.. it doesn\\'t have 90 or 120 hz refresh rate but it FEELS better than my Nord with 90 hz!!3. A14 bionic promises years of performance ahead.4. Battery life is somewhere in between good & great.5.6. The dimensions of phone, it\\'s smaller than usual android phones and feels much more handy along with less weight.7. Overall build quality is great.8. Best audio output out there.9. Long term support.CONS:1. SLOW CHARGING. 20 W only, you\\'ll be jealous of 1/3rd price phones with 60 W charging. Yes that much high charging will effect health of battery but 20 W is way way too less, if Apple is such a legendary company they should have created a battery that can withstand decently fast charging while instead they just use slow charging to keep their battery\\'s health.2. Overy exhagerated software experience, reality is that Android is more user friendly with better gesture & commonsense options & settings & steps to do simple things. iOS looks pretty yes but UX engineers at Apple have really done a crappy job.. there\\'s still no notification grouping in correct manner (its executed poorly), no proper homescreen customisation & just so so so many \"commonsense\" things are missing from iOS I can rant all day about it. Everything you can do in Android with a single click or swipe takes 2 swipes and then a click to do in iOS its SOOOOO ANNOYING. Like you want to clear a notification? Swipe and then click on clear. You want to open a notification? Swipe FIRST and then click open.. like wth????????3. DON\\'T believe Apple fanboys who scream about speed, Android phones are equally snappy in performance today. There are split second app loading times in iOS also, just like in Android. And yeah iOS DOES HAVE occasional bugs too, apps taking too much time sometimes etc etc.4. FaceID is nice but an in-fingerprint reader seems the best ID to me atleast, that\\'s missing.5. Ridiculously expensive accessories6. Battery life is above good but not great.In the end I would say iPhone, overall, does provide a better experience (mostly cuz of hardware only) but it\\'s expensive. Do know that you\\'re NOT buying a value-for-money phone at all, so buy it only if you can afford it without much difficulty.',\n",
       " 'I have been a smartphone user since 2015, used both windows and android, finally into iOS too. Bought it on Sep 26, 2022.Btw, on the left side on the body, near the screen, the paint had been chipped off (microscopic level). Had complained to the Amazon customer service, but of no avail. 6 months later...........1.  The Externals:  Build Quality: Apart from the earlier niggle, a well put together phone. The familiar glass sandwich design. It is pretty light to hold and because of the squared design, feels really comfortable to hold. I\\'m not a fan of big phones, so this size is a perfect sweet spot. The buttons also feel really tactile, no wobbles whatsoever. The alert slider is really a blessing! a real convenient thing to have. I guess every manufacturer apart from Oneplus has to implement this.  And then, the IP68. I haven\\'t got a chance to take underwater photos, so yeah, It\\'s a safe thing!  Screen: It is a beautiful display to watch on. Supports HDR and Dolby vision as well. Inky blacks and punchy colors: a treat for movie lovers!. ( Btw, I dont like to watch movies on phones)  Speakers: Dual front firing speakers. Loud, clear. No distortion even at high volumes. Doesn\\'t have much of a bass but a really enjoyable one. Calls are crystal clear if there isn\\'t any signal interference.  Cameras: It takes good quality photos with the rear as well as front cameras. In daylight, the photos look rich and crisp, details are really spot on, the colors look really natural, skin tones produced are natural. Night time photos too look really good. Night mode does make a difference. Considering it\\'s a flagship from 2020, these things are really expected and it does deliver. I really don\\'t have anything to comment about the video, It\\'s splendid!.... just that.2. The Internals.  Battery life: Still at 100% health(not a real thing to worry about, but just saying). On iOS 15, it used to be stellar, I usually get about 5.30 hrs at 50% battery and still there\\'ll be about another 50% to spare. But on iOS 16, I only get about half the battery I used to get on iOS 15. (About 5-6 hours at 100% usage). I really hope this would change in the future with the upcoming updates, but at present, I\\'m not happy about it.  iOS & Performance : The A14 bionic is a beast. Apps open up in a jiffy. Not much of a gamer, but the games do play without a hint of lag. iOS is a fresh experience for me. But then there are many \"must have\" things that I miss here that I used in Android, like call recording(it\\'s a must have feature, you never know when it\\'ll be a life saver!), The performance and the overall fluidity of the system took a hit when I updated to iOS 16, but slowly, it\\'s getting better over time with updates, (now on iOS 16.4) But, much more refinements to be done, a lot of bugs to be fixed!Some general things : 5G is working fine. Getting good speeds just like the carriers advertised, signal reception is good. Heats up a bit (Culprit- iOS 16, haven\\'t noticed on iOS 15)',\n",
       " 'Good & value for money',\n",
       " 'I migrated to iOS after using Android for more than 8 years. I am a standard mobile user, I do not play games on my phone and neither do I keep browsing social media for ages. The only things that I use my phone are for calling, whatsapp, taking notes, some light photography and watching videos. The most heavily used activity on my phone is watching videos on youtube.With all these activities being done, my weekly average screen on time is 2-3 hours. I am satisfied with the battery life. It has been around 3 months of usage and the battery capacity is still 100%.  With heavy usage, the phone lasts 6 hours give or take a few minutes, and with medium usage this goes way higher.The standby time is excellent on this device. I have had instances where I used my phone for a total of 2-3 hours but a single charge lasted more than 36 hours.All in all, I can confidently say that I am very happy with the security features the phone offers and I am happy with my purchase.',\n",
       " \"IPhone 12 is probably the best option to start or enter into the ios ecosystem.Here are the advantages of iphone 12:1.The best camera phone,photos are amazing nad the video quality is even more better.2.The performance is just top notch.No complaints at all.3.The IOS is best at everything.No lags at all or almost.4.The display is just amazing.It could feel a bit small, if you are shifting from an android,but the display quality is great.Here are a few disadvantages:1.The battery will last a whole day only if you are a moderate to light user.2.The file transfer to an android device is a big hassle.Conclusion: It is a very good device if you don't play too much games or use camera all day, as the battery will not last.For me it is the best.\"]"
      ]
     },
     "execution_count": 30,
     "metadata": {},
     "output_type": "execute_result"
    }
   ],
   "source": [
    "review_text[:5]"
   ]
  },
  {
   "cell_type": "code",
   "execution_count": 124,
   "id": "4734c26e",
   "metadata": {},
   "outputs": [],
   "source": [
    "#for text in review_text:\n",
    "#    text = text.replace(\"\\n\", \"\").strip()\n"
   ]
  },
  {
   "cell_type": "markdown",
   "id": "3122983c",
   "metadata": {},
   "source": [
    "# Function to analyze the sentiment (Postive, Negative, Average)\n",
    "# TextBlob used for analysis"
   ]
  },
  {
   "cell_type": "code",
   "execution_count": 31,
   "id": "158b44a4",
   "metadata": {},
   "outputs": [],
   "source": [
    "def sentimentAnalysis(review):\n",
    "    if TextBlob(review).sentiment.polarity>0:\n",
    "        return \"Positive\"\n",
    "    if TextBlob(review).sentiment.polarity==0:\n",
    "        return \"Average\"\n",
    "    else:\n",
    "        return \"Negative\""
   ]
  },
  {
   "cell_type": "code",
   "execution_count": 32,
   "id": "5a3c279b",
   "metadata": {},
   "outputs": [],
   "source": [
    "sentiment = []\n",
    "for review in review_text:\n",
    "    sentiment.append(sentimentAnalysis(review))\n",
    "    #print(sentimentAnalysis(review))"
   ]
  },
  {
   "cell_type": "code",
   "execution_count": null,
   "id": "e7fc2772",
   "metadata": {},
   "outputs": [],
   "source": [
    "for title in review_title:\n",
    "    for text in review_text:\n",
    "        for v in verified:\n",
    "            for sent in sentiment:\n",
    "                val=(title, text, size, colour, v, sent)\n",
    "                mc.execute(\"insert into reviews(rtitle, rtext, storageSize, colour, verified, sentiment) values (%s, %s, %s, %s, %s, %s)\", val)\n",
    "                mydb.commit()"
   ]
  },
  {
   "cell_type": "markdown",
   "id": "2f4bd012",
   "metadata": {},
   "source": [
    "# Insert data into Database"
   ]
  },
  {
   "cell_type": "markdown",
   "id": "66c21944",
   "metadata": {},
   "source": [
    "# Fetch reviews"
   ]
  },
  {
   "cell_type": "code",
   "execution_count": 56,
   "id": "509c5416",
   "metadata": {},
   "outputs": [
    {
     "name": "stdout",
     "output_type": "stream",
     "text": [
      "('An overall good premium experience', \"SUMMERY: As a first time iPhone user, I would say one should definitely buy iPhone ONLY for premium built & premium hardware (will talk later) while the whole iOS experience is pretty overrated. iPhones isn\\\\'t any exceptionally fast with normal apps like YouTube, Insta etc, Android phones are equally snappy with them in 2022.PROS:1. Impressive hardware, the heptics, the autobrightness & otherwise highly ignored things in Android are way too perfectly executed in iPhone and it DOES make a big difference in user experience!!2. The screen is AMAZING.. it doesn\\\\'t have 90 or 120 hz refresh rate but it FEELS better than my Nord with 90 hz!!3. A14 bionic promises years of performance ahead.4. Battery life is somewhere in between good & great.5.6. The dimensions of phone, it\\\\'s smaller than usual android phones and feels much more handy along with less weight.7. Overall build quality is great.8. Best audio output out there.9. Long term support.CONS:1. SLOW CHARGING. 20 W only, you\\\\'ll be jealous of 1/3rd price phones with 60 W charging. Yes that much high charging will effect health of battery but 20 W is way way too less, if Apple is such a legendary company they should have created a battery that can withstand decently fast charging while instead they just use slow charging to keep their battery\\\\'s health.2. Overy exhagerated software experience, reality is that Android is more user friendly with better gesture & commonsense options & settings & steps to do simple things. iOS looks pretty yes but UX engineers at Apple have really done a crappy job.. there\\\\'s still no notification grouping in correct manner (its executed poorly), no proper homescreen customisation & just so so so many \\\\'commonsense\\\\' things are missing from iOS I can rant all day about it. Everything you can do in Android with a single click or swipe takes 2 swipes and then a click to do in iOS its SOOOOO ANNOYING. Like you want to clear a notification? Swipe and then click on clear. You want to open a notification? Swipe FIRST and then click open.. like wth????????3. DON\\\\'T believe Apple fanboys who scream about speed, Android phones are equally snappy in performance today. There are split second app loading times in iOS also, just like in Android. And yeah iOS DOES HAVE occasional bugs too, apps taking too much time sometimes etc etc.4. FaceID is nice but an in-fingerprint reader seems the best ID to me atleast, that\\\\'s missing.5. Ridiculously expensive accessories6. Battery life is above good but not great.In the end I would say iPhone, overall, does provide a better experience (mostly cuz of hardware only) but it\\\\'s expensive. Do know that you\\\\'re NOT buying a value-for-money phone at all, so buy it only if you can afford it without much difficulty.\", 64, 'RED', 'YES', 4, 'Positive')\n",
      "\n",
      "\n",
      "('First step into the ecosystem!', \"I have been a smartphone user since 2015, used both windows and android, finally into iOS too. Bought it on Sep 26, 2022.Btw, on the left side on the body, near the screen, the paint had been chipped off (microscopic level). Had complained to the Amazon customer service, but of no avail. 6 months later...........1.  The Externals:  Build Quality: Apart from the earlier niggle, a well put together phone. The familiar glass sandwich design. It is pretty light to hold and because of the squared design, feels really comfortable to hold. I\\\\'m not a fan of big phones, so this size is a perfect sweet spot. The buttons also feel really tactile, no wobbles whatsoever. The alert slider is really a blessing! a real convenient thing to have. I guess every manufacturer apart from Oneplus has to implement this.  And then, the IP68. I haven\\\\'t got a chance to take underwater photos, so yeah, It\\\\'s a safe thing!  Screen: It is a beautiful display to watch on. Supports HDR and Dolby vision as well. Inky blacks and punchy colors: a treat for movie lovers!. ( Btw, I dont like to watch movies on phones)  Speakers: Dual front firing speakers. Loud, clear. No distortion even at high volumes. Doesn\\\\'t have much of a bass but a really enjoyable one. Calls are crystal clear if there isn\\\\'t any signal interference.  Cameras: It takes good quality photos with the rear as well as front cameras. In daylight, the photos look rich and crisp, details are really spot on, the colors look really natural, skin tones produced are natural. Night time photos too look really good. Night mode does make a difference. Considering it\\\\'s a flagship from 2020, these things are really expected and it does deliver. I really don\\\\'t have anything to comment about the video, It\\\\'s splendid!.... just that.2. The Internals.  Battery life: Still at 100% health(not a real thing to worry about, but just saying). On iOS 15, it used to be stellar, I usually get about 5.30 hrs at 50% battery and still there\\\\'ll be about another 50% to spare. But on iOS 16, I only get about half the battery I used to get on iOS 15. (About 5-6 hours at 100% usage). I really hope this would change in the future with the upcoming updates, but at present, I\\\\'m not happy about it.  iOS & Performance : The A14 bionic is a beast. Apps open up in a jiffy. Not much of a gamer, but the games do play without a hint of lag. iOS is a fresh experience for me. But then there are many \\\\'must have\\\\' things that I miss here that I used in Android, like call recording(it\\\\'s a must have feature, you never know when it\\\\'ll be a life saver!), The performance and the overall fluidity of the system took a hit when I updated to iOS 16, but slowly, it\\\\'s getting better over time with updates, (now on iOS 16.4) But, much more refinements to be done, a lot of bugs to be fixed!Some general things : 5G is working fine. Getting good speeds just like the carriers advertised, signal reception is good. Heats up a bit (Culprit- iOS 16, haven\\\\'t noticed on iOS 15)\", 64, 'RED', 'YES', 4, 'Positive')\n",
      "\n",
      "\n",
      "('Everything is perfect except battery', 'I bought it on 9th of October and today on 14 march battery health is 98%Everything is perfect except battery, cant be used whole day without charging.I wish apple may build at least 5000 mah batteriesRegret by only battery performance rest of all are perfect.', 64, 'RED', 'YES', 4, 'Positive')\n",
      "\n",
      "\n",
      "('Amazing Phone', \"The iPhone 12 has been an amazing phone for me. It\\\\'s great for streaming, messaging, and browsing the internet. Its processing speed is incredibly fast, and the design is sleek and modern. The battery life is also excellent and can easily last a full day of moderate use. The camera is fantastic, and the photos I take look stunning. The display is vivid and bright, making everything look great. Overall, the iPhone 12 has been a great purchase and I\\\\'m very pleased with it. BACK COVER From Zapvi\", 64, 'RED', 'YES', 4, 'Positive')\n",
      "\n",
      "\n",
      "('Best For Gaming ðŸ”¥', 'Great gaming performance ðŸ™‚ tbh i like android more xDðŸ˜†', 64, 'RED', 'YES', 4, 'Positive')\n",
      "\n",
      "\n"
     ]
    }
   ],
   "source": [
    "mc.execute(\"select * from reviews where rating = 4 limit 5\")\n",
    "fetch = mc.fetchall()\n",
    "\n",
    "for x in fetch:\n",
    "    print(x)\n",
    "    print(\"\\n\")"
   ]
  },
  {
   "cell_type": "code",
   "execution_count": null,
   "id": "caeed02b",
   "metadata": {},
   "outputs": [],
   "source": []
  }
 ],
 "metadata": {
  "kernelspec": {
   "display_name": "Python 3 (ipykernel)",
   "language": "python",
   "name": "python3"
  },
  "language_info": {
   "codemirror_mode": {
    "name": "ipython",
    "version": 3
   },
   "file_extension": ".py",
   "mimetype": "text/x-python",
   "name": "python",
   "nbconvert_exporter": "python",
   "pygments_lexer": "ipython3",
   "version": "3.11.2"
  }
 },
 "nbformat": 4,
 "nbformat_minor": 5
}
